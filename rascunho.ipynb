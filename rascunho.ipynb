{
 "cells": [
  {
   "cell_type": "code",
   "execution_count": 11,
   "metadata": {},
   "outputs": [],
   "source": [
    "import basedosdados as bd\n",
    "import pandas as pd\n",
    "from plotnine import *"
   ]
  },
  {
   "cell_type": "code",
   "execution_count": 89,
   "metadata": {},
   "outputs": [
    {
     "name": "stderr",
     "output_type": "stream",
     "text": [
      "Downloading: 100%|██████████| 11/11 [00:00<00:00, 32.26rows/s]\n"
     ]
    },
    {
     "data": {
      "text/html": [
       "<div>\n",
       "<style scoped>\n",
       "    .dataframe tbody tr th:only-of-type {\n",
       "        vertical-align: middle;\n",
       "    }\n",
       "\n",
       "    .dataframe tbody tr th {\n",
       "        vertical-align: top;\n",
       "    }\n",
       "\n",
       "    .dataframe thead th {\n",
       "        text-align: right;\n",
       "    }\n",
       "</style>\n",
       "<table border=\"1\" class=\"dataframe\">\n",
       "  <thead>\n",
       "    <tr style=\"text-align: right;\">\n",
       "      <th></th>\n",
       "      <th>id_municipio</th>\n",
       "      <th>nome</th>\n",
       "    </tr>\n",
       "  </thead>\n",
       "  <tbody>\n",
       "    <tr>\n",
       "      <th>0</th>\n",
       "      <td>1100809</td>\n",
       "      <td>Candeias do Jamari</td>\n",
       "    </tr>\n",
       "    <tr>\n",
       "      <th>1</th>\n",
       "      <td>1600105</td>\n",
       "      <td>Amapá</td>\n",
       "    </tr>\n",
       "    <tr>\n",
       "      <th>2</th>\n",
       "      <td>1705102</td>\n",
       "      <td>Chapada da Natividade</td>\n",
       "    </tr>\n",
       "    <tr>\n",
       "      <th>3</th>\n",
       "      <td>2402105</td>\n",
       "      <td>Campo Redondo</td>\n",
       "    </tr>\n",
       "    <tr>\n",
       "      <th>4</th>\n",
       "      <td>2403509</td>\n",
       "      <td>Espírito Santo</td>\n",
       "    </tr>\n",
       "    <tr>\n",
       "      <th>5</th>\n",
       "      <td>2501575</td>\n",
       "      <td>Barra de Santana</td>\n",
       "    </tr>\n",
       "    <tr>\n",
       "      <th>6</th>\n",
       "      <td>2507408</td>\n",
       "      <td>Jericó</td>\n",
       "    </tr>\n",
       "    <tr>\n",
       "      <th>7</th>\n",
       "      <td>2513208</td>\n",
       "      <td>Santa Cruz</td>\n",
       "    </tr>\n",
       "    <tr>\n",
       "      <th>8</th>\n",
       "      <td>2513943</td>\n",
       "      <td>São Domingos do Cariri</td>\n",
       "    </tr>\n",
       "    <tr>\n",
       "      <th>9</th>\n",
       "      <td>4202438</td>\n",
       "      <td>Bocaina do Sul</td>\n",
       "    </tr>\n",
       "    <tr>\n",
       "      <th>10</th>\n",
       "      <td>4207007</td>\n",
       "      <td>Içara</td>\n",
       "    </tr>\n",
       "  </tbody>\n",
       "</table>\n",
       "</div>"
      ],
      "text/plain": [
       "   id_municipio                    nome\n",
       "0       1100809      Candeias do Jamari\n",
       "1       1600105                   Amapá\n",
       "2       1705102   Chapada da Natividade\n",
       "3       2402105           Campo Redondo\n",
       "4       2403509          Espírito Santo\n",
       "5       2501575        Barra de Santana\n",
       "6       2507408                  Jericó\n",
       "7       2513208              Santa Cruz\n",
       "8       2513943  São Domingos do Cariri\n",
       "9       4202438          Bocaina do Sul\n",
       "10      4207007                   Içara"
      ]
     },
     "execution_count": 89,
     "metadata": {},
     "output_type": "execute_result"
    }
   ],
   "source": [
    "query = \"\"\"\n",
    "SELECT  DISTINCT id_municipio, nome FROM `basedosdados.br_denatran_frota.municipio_tipo` \n",
    "INNER JOIN `basedosdados.br_bd_diretorios_brasil.municipio` USING (id_municipio, sigla_uf)\n",
    "GROUP BY sigla_uf, id_municipio, ano, mes, nome\n",
    "\n",
    "HAVING COUNT(*) > 1\n",
    "ORDER BY id_municipio\"\"\"\n",
    "frota = bd.read_sql(query, billing_project_id=\"python-371123\")\n",
    "frota"
   ]
  },
  {
   "cell_type": "code",
   "execution_count": 24,
   "metadata": {},
   "outputs": [
    {
     "name": "stderr",
     "output_type": "stream",
     "text": [
      "Downloading: 100%|██████████| 612/612 [00:00<00:00, 1773.92rows/s]\n"
     ]
    }
   ],
   "source": [
    "query = \"\"\"\n",
    "SELECT id_estacao, data_fundacao, latitude, longitude, id_municipio as municipio\n",
    "FROM `basedosdados.br_inmet_bdmep.estacao` \n",
    "\"\"\"\n",
    "\n",
    "df = bd.read_sql(query, billing_project_id=\"python-371123\")"
   ]
  },
  {
   "cell_type": "code",
   "execution_count": 16,
   "metadata": {},
   "outputs": [
    {
     "name": "stderr",
     "output_type": "stream",
     "text": [
      "Downloading: 100%|██████████| 640808/640808 [00:25<00:00, 24813.06rows/s]\n"
     ]
    }
   ],
   "source": [
    "query = \"\"\"\n",
    "SELECT precipitacao_total, data, id_estacao\n",
    "FROM `basedosdados.br_inmet_bdmep.microdados`\n",
    "WHERE EXTRACT(MONTH FROM data) = 10\n",
    "  AND EXTRACT(YEAR FROM data) IN (2002, 2006, 2010, 2014, 2018, 2022)\n",
    "  AND EXTRACT(HOUR FROM hora) >= 7\n",
    "  AND EXTRACT(HOUR FROM hora) <= 17\n",
    "  AND precipitacao_total IS NOT NULL\n",
    "LIMIT 100000000\n",
    "\"\"\"\n",
    "\n",
    "df = bd.read_sql(query, billing_project_id=\"python-371123\")"
   ]
  },
  {
   "cell_type": "code",
   "execution_count": 88,
   "metadata": {},
   "outputs": [
    {
     "data": {
      "text/html": [
       "<div>\n",
       "<style scoped>\n",
       "    .dataframe tbody tr th:only-of-type {\n",
       "        vertical-align: middle;\n",
       "    }\n",
       "\n",
       "    .dataframe tbody tr th {\n",
       "        vertical-align: top;\n",
       "    }\n",
       "\n",
       "    .dataframe thead th {\n",
       "        text-align: right;\n",
       "    }\n",
       "</style>\n",
       "<table border=\"1\" class=\"dataframe\">\n",
       "  <thead>\n",
       "    <tr style=\"text-align: right;\">\n",
       "      <th></th>\n",
       "      <th>id_municipio</th>\n",
       "      <th>latitude</th>\n",
       "      <th>longitude</th>\n",
       "      <th>uf</th>\n",
       "      <th>regiao</th>\n",
       "    </tr>\n",
       "  </thead>\n",
       "  <tbody>\n",
       "    <tr>\n",
       "      <th>0</th>\n",
       "      <td>5200050</td>\n",
       "      <td>-16.7573</td>\n",
       "      <td>-49.4412</td>\n",
       "      <td>GO</td>\n",
       "      <td>Centro-Oeste</td>\n",
       "    </tr>\n",
       "    <tr>\n",
       "      <th>1</th>\n",
       "      <td>5200100</td>\n",
       "      <td>-16.1970</td>\n",
       "      <td>-48.7057</td>\n",
       "      <td>GO</td>\n",
       "      <td>Centro-Oeste</td>\n",
       "    </tr>\n",
       "    <tr>\n",
       "      <th>2</th>\n",
       "      <td>5200134</td>\n",
       "      <td>-17.3960</td>\n",
       "      <td>-50.3749</td>\n",
       "      <td>GO</td>\n",
       "      <td>Centro-Oeste</td>\n",
       "    </tr>\n",
       "    <tr>\n",
       "      <th>3</th>\n",
       "      <td>5200159</td>\n",
       "      <td>-16.4127</td>\n",
       "      <td>-50.1657</td>\n",
       "      <td>GO</td>\n",
       "      <td>Centro-Oeste</td>\n",
       "    </tr>\n",
       "    <tr>\n",
       "      <th>4</th>\n",
       "      <td>5200175</td>\n",
       "      <td>-14.9778</td>\n",
       "      <td>-47.7823</td>\n",
       "      <td>GO</td>\n",
       "      <td>Centro-Oeste</td>\n",
       "    </tr>\n",
       "    <tr>\n",
       "      <th>...</th>\n",
       "      <td>...</td>\n",
       "      <td>...</td>\n",
       "      <td>...</td>\n",
       "      <td>...</td>\n",
       "      <td>...</td>\n",
       "    </tr>\n",
       "    <tr>\n",
       "      <th>5565</th>\n",
       "      <td>3306107</td>\n",
       "      <td>-22.2445</td>\n",
       "      <td>-43.7129</td>\n",
       "      <td>RJ</td>\n",
       "      <td>Sudeste</td>\n",
       "    </tr>\n",
       "    <tr>\n",
       "      <th>5566</th>\n",
       "      <td>3306156</td>\n",
       "      <td>-20.9276</td>\n",
       "      <td>-41.8701</td>\n",
       "      <td>RJ</td>\n",
       "      <td>Sudeste</td>\n",
       "    </tr>\n",
       "    <tr>\n",
       "      <th>5567</th>\n",
       "      <td>3306206</td>\n",
       "      <td>-22.4059</td>\n",
       "      <td>-43.6686</td>\n",
       "      <td>RJ</td>\n",
       "      <td>Sudeste</td>\n",
       "    </tr>\n",
       "    <tr>\n",
       "      <th>5568</th>\n",
       "      <td>3306305</td>\n",
       "      <td>-22.5202</td>\n",
       "      <td>-44.0996</td>\n",
       "      <td>RJ</td>\n",
       "      <td>Sudeste</td>\n",
       "    </tr>\n",
       "    <tr>\n",
       "      <th>5569</th>\n",
       "      <td>5300108</td>\n",
       "      <td>-15.7795</td>\n",
       "      <td>-47.9297</td>\n",
       "      <td>DF</td>\n",
       "      <td>Centro-Oeste</td>\n",
       "    </tr>\n",
       "  </tbody>\n",
       "</table>\n",
       "<p>5570 rows × 5 columns</p>\n",
       "</div>"
      ],
      "text/plain": [
       "      id_municipio  latitude  longitude  uf        regiao\n",
       "0          5200050  -16.7573   -49.4412  GO  Centro-Oeste\n",
       "1          5200100  -16.1970   -48.7057  GO  Centro-Oeste\n",
       "2          5200134  -17.3960   -50.3749  GO  Centro-Oeste\n",
       "3          5200159  -16.4127   -50.1657  GO  Centro-Oeste\n",
       "4          5200175  -14.9778   -47.7823  GO  Centro-Oeste\n",
       "...            ...       ...        ...  ..           ...\n",
       "5565       3306107  -22.2445   -43.7129  RJ       Sudeste\n",
       "5566       3306156  -20.9276   -41.8701  RJ       Sudeste\n",
       "5567       3306206  -22.4059   -43.6686  RJ       Sudeste\n",
       "5568       3306305  -22.5202   -44.0996  RJ       Sudeste\n",
       "5569       5300108  -15.7795   -47.9297  DF  Centro-Oeste\n",
       "\n",
       "[5570 rows x 5 columns]"
      ]
     },
     "execution_count": 88,
     "metadata": {},
     "output_type": "execute_result"
    }
   ],
   "source": [
    "pd.read_csv(\"script/municipios.csv\", index_col=0)"
   ]
  },
  {
   "cell_type": "code",
   "execution_count": 73,
   "metadata": {},
   "outputs": [
    {
     "data": {
      "text/html": [
       "<div>\n",
       "<style scoped>\n",
       "    .dataframe tbody tr th:only-of-type {\n",
       "        vertical-align: middle;\n",
       "    }\n",
       "\n",
       "    .dataframe tbody tr th {\n",
       "        vertical-align: top;\n",
       "    }\n",
       "\n",
       "    .dataframe thead th {\n",
       "        text-align: right;\n",
       "    }\n",
       "</style>\n",
       "<table border=\"1\" class=\"dataframe\">\n",
       "  <thead>\n",
       "    <tr style=\"text-align: right;\">\n",
       "      <th></th>\n",
       "      <th>id_estacao</th>\n",
       "      <th>data_fundacao</th>\n",
       "      <th>latitude</th>\n",
       "      <th>longitude</th>\n",
       "      <th>municipio</th>\n",
       "    </tr>\n",
       "  </thead>\n",
       "  <tbody>\n",
       "    <tr>\n",
       "      <th>0</th>\n",
       "      <td>A001</td>\n",
       "      <td>2000-05-07</td>\n",
       "      <td>-15.789444</td>\n",
       "      <td>-47.925833</td>\n",
       "      <td>5300108.0</td>\n",
       "    </tr>\n",
       "    <tr>\n",
       "      <th>1</th>\n",
       "      <td>A042</td>\n",
       "      <td>2017-07-19</td>\n",
       "      <td>-15.599722</td>\n",
       "      <td>-48.131111</td>\n",
       "      <td>5300108.0</td>\n",
       "    </tr>\n",
       "    <tr>\n",
       "      <th>2</th>\n",
       "      <td>A045</td>\n",
       "      <td>2008-10-03</td>\n",
       "      <td>-15.596491</td>\n",
       "      <td>-47.625801</td>\n",
       "      <td>5300108.0</td>\n",
       "    </tr>\n",
       "    <tr>\n",
       "      <th>3</th>\n",
       "      <td>A046</td>\n",
       "      <td>2014-10-01</td>\n",
       "      <td>-15.935278</td>\n",
       "      <td>-48.137500</td>\n",
       "      <td>5300108.0</td>\n",
       "    </tr>\n",
       "    <tr>\n",
       "      <th>4</th>\n",
       "      <td>A047</td>\n",
       "      <td>2017-02-07</td>\n",
       "      <td>-16.012222</td>\n",
       "      <td>-47.557417</td>\n",
       "      <td>5300108.0</td>\n",
       "    </tr>\n",
       "    <tr>\n",
       "      <th>...</th>\n",
       "      <td>...</td>\n",
       "      <td>...</td>\n",
       "      <td>...</td>\n",
       "      <td>...</td>\n",
       "      <td>...</td>\n",
       "    </tr>\n",
       "    <tr>\n",
       "      <th>607</th>\n",
       "      <td>S113</td>\n",
       "      <td>2016-12-01</td>\n",
       "      <td>0.947778</td>\n",
       "      <td>-59.746389</td>\n",
       "      <td>1400233.0</td>\n",
       "    </tr>\n",
       "    <tr>\n",
       "      <th>608</th>\n",
       "      <td>S114</td>\n",
       "      <td>2016-12-01</td>\n",
       "      <td>4.477500</td>\n",
       "      <td>-61.149167</td>\n",
       "      <td>1400456.0</td>\n",
       "    </tr>\n",
       "    <tr>\n",
       "      <th>609</th>\n",
       "      <td>S122</td>\n",
       "      <td>2016-12-01</td>\n",
       "      <td>3.358889</td>\n",
       "      <td>-59.823889</td>\n",
       "      <td>1400159.0</td>\n",
       "    </tr>\n",
       "    <tr>\n",
       "      <th>610</th>\n",
       "      <td>A847</td>\n",
       "      <td>2007-03-23</td>\n",
       "      <td>-25.494444</td>\n",
       "      <td>-48.325833</td>\n",
       "      <td>4118204.0</td>\n",
       "    </tr>\n",
       "    <tr>\n",
       "      <th>611</th>\n",
       "      <td>A338</td>\n",
       "      <td>2007-12-03</td>\n",
       "      <td>-3.900833</td>\n",
       "      <td>-42.236944</td>\n",
       "      <td>2203701.0</td>\n",
       "    </tr>\n",
       "  </tbody>\n",
       "</table>\n",
       "<p>612 rows × 5 columns</p>\n",
       "</div>"
      ],
      "text/plain": [
       "    id_estacao data_fundacao   latitude  longitude  municipio\n",
       "0         A001    2000-05-07 -15.789444 -47.925833  5300108.0\n",
       "1         A042    2017-07-19 -15.599722 -48.131111  5300108.0\n",
       "2         A045    2008-10-03 -15.596491 -47.625801  5300108.0\n",
       "3         A046    2014-10-01 -15.935278 -48.137500  5300108.0\n",
       "4         A047    2017-02-07 -16.012222 -47.557417  5300108.0\n",
       "..         ...           ...        ...        ...        ...\n",
       "607       S113    2016-12-01   0.947778 -59.746389  1400233.0\n",
       "608       S114    2016-12-01   4.477500 -61.149167  1400456.0\n",
       "609       S122    2016-12-01   3.358889 -59.823889  1400159.0\n",
       "610       A847    2007-03-23 -25.494444 -48.325833  4118204.0\n",
       "611       A338    2007-12-03  -3.900833 -42.236944  2203701.0\n",
       "\n",
       "[612 rows x 5 columns]"
      ]
     },
     "execution_count": 73,
     "metadata": {},
     "output_type": "execute_result"
    }
   ],
   "source": [
    "(\n",
    " pd.read_csv(\"temp2.csv\", index_col= 0)\n",
    ")"
   ]
  },
  {
   "cell_type": "code",
   "execution_count": 74,
   "metadata": {},
   "outputs": [
    {
     "data": {
      "image/png": "[encoded data removed]",
      "text/plain": [
       "<Figure size 640x480 with 1 Axes>"
      ]
     },
     "metadata": {},
     "output_type": "display_data"
    },
    {
     "data": {
      "text/plain": [
       "<ggplot: (156233924840)>"
      ]
     },
     "execution_count": 74,
     "metadata": {},
     "output_type": "execute_result"
    }
   ],
   "source": [
    "(\n",
    " pd.read_csv(\"temp.csv\", index_col= 0)\n",
    " .pipe(lambda _: ggplot(_)+geom_density(aes(\"precipitacao_total\")))\n",
    ")"
   ]
  },
  {
   "cell_type": "code",
   "execution_count": 82,
   "metadata": {},
   "outputs": [
    {
     "data": {
      "image/png": "[encoded data removed]",
      "text/plain": [
       "<Figure size 640x480 with 1 Axes>"
      ]
     },
     "metadata": {},
     "output_type": "display_data"
    },
    {
     "data": {
      "text/plain": [
       "<ggplot: (156236759399)>"
      ]
     },
     "execution_count": 82,
     "metadata": {},
     "output_type": "execute_result"
    }
   ],
   "source": [
    "(\n",
    " pd.read_csv(\"temp.csv\", index_col= 0)\n",
    " .assign(data= lambda _: pd.to_datetime(_.data))\n",
    " .pipe(lambda _: ggplot(_)+geom_density(aes(\"data.dt.day\")))\n",
    ")"
   ]
  }
 ],
 "metadata": {
  "kernelspec": {
   "display_name": "StreamLit",
   "language": "python",
   "name": "python3"
  },
  "language_info": {
   "codemirror_mode": {
    "name": "ipython",
    "version": 3
   },
   "file_extension": ".py",
   "mimetype": "text/x-python",
   "name": "python",
   "nbconvert_exporter": "python",
   "pygments_lexer": "ipython3",
   "version": "3.9.16"
  },
  "orig_nbformat": 4
 },
 "nbformat": 4,
 "nbformat_minor": 2
}
