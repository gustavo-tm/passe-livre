{
 "cells": [
  {
   "cell_type": "code",
   "execution_count": null,
   "metadata": {},
   "outputs": [],
   "source": [
    "import basedosdados as bd\n",
    "import pandas as pd\n",
    "import numpy as np\n",
    "from sklearn.neighbors import NearestNeighbors\n",
    "from plotnine import *"
   ]
  },
  {
   "cell_type": "code",
   "execution_count": null,
   "metadata": {},
   "outputs": [],
   "source": [
    "query = \"\"\"\n",
    "SELECT  DISTINCT id_municipio, nome FROM `basedosdados.br_denatran_frota.municipio_tipo` \n",
    "INNER JOIN `basedosdados.br_bd_diretorios_brasil.municipio` USING (id_municipio, sigla_uf)\n",
    "GROUP BY sigla_uf, id_municipio, ano, mes, nome\n",
    "\n",
    "HAVING COUNT(*) > 1\n",
    "ORDER BY id_municipio\"\"\"\n",
    "frota = bd.read_sql(query, billing_project_id=\"python-371123\")\n",
    "frota"
   ]
  }
 ],
 "metadata": {
  "kernelspec": {
   "display_name": "StreamLit",
   "language": "python",
   "name": "python3"
  },
  "language_info": {
   "codemirror_mode": {
    "name": "ipython",
    "version": 3
   },
   "file_extension": ".py",
   "mimetype": "text/x-python",
   "name": "python",
   "nbconvert_exporter": "python",
   "pygments_lexer": "ipython3",
   "version": "3.9.12"
  },
  "orig_nbformat": 4
 },
 "nbformat": 4,
 "nbformat_minor": 2
}
