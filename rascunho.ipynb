{
 "cells": [
  {
   "cell_type": "code",
   "execution_count": 2,
   "metadata": {},
   "outputs": [],
   "source": [
    "import pandas as pd\n",
    "import basedosdados as bd"
   ]
  },
  {
   "cell_type": "code",
   "execution_count": 3,
   "metadata": {},
   "outputs": [
    {
     "name": "stderr",
     "output_type": "stream",
     "text": [
      "Downloading: 100%|██████████| 5565/5565 [00:01<00:00, 3085.26rows/s]\n"
     ]
    }
   ],
   "source": [
    "query = '''\n",
    "SELECT razao_dependencia, taxa_envelhecimento, expectativa_anos_estudo, \n",
    "    taxa_analfabetismo_18_mais, indice_gini, prop_pobreza_extrema, renda_pc,\n",
    "    taxa_desocupacao_18_mais, taxa_ocupados_carteira, taxa_agua_encanada, populacao,\n",
    "    populacao_urbana, populacao_rural, idhm\n",
    "FROM `basedosdados.mundo_onu_adh.municipio` \n",
    "WHERE ano = 2010\n",
    "LIMIT 10000\n",
    "'''\n",
    "df = bd.read_sql(query, billing_project_id=\"python-371123\")\n"
   ]
  },
  {
   "cell_type": "code",
   "execution_count": 4,
   "metadata": {},
   "outputs": [],
   "source": [
    "df.to_csv(\"output/psm.csv\")"
   ]
  }
 ],
 "metadata": {
  "kernelspec": {
   "display_name": "dev",
   "language": "python",
   "name": "python3"
  },
  "language_info": {
   "codemirror_mode": {
    "name": "ipython",
    "version": 3
   },
   "file_extension": ".py",
   "mimetype": "text/x-python",
   "name": "python",
   "nbconvert_exporter": "python",
   "pygments_lexer": "ipython3",
   "version": "3.9.16"
  },
  "orig_nbformat": 4
 },
 "nbformat": 4,
 "nbformat_minor": 2
}
